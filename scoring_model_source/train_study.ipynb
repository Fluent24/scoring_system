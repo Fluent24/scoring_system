{
 "cells": [
  {
   "cell_type": "markdown",
   "id": "128771ad-e6f1-4184-b93f-4925e07be5d6",
   "metadata": {},
   "source": [
    "## Train\n",
    "```\n",
    "python train_mlp.py --lang='de' --label_type1='pron' --label_type2='articulation' --dir_data='data/audio' --dir_list='data_prepare' --mlp_hidden=64 --epochs=200 --patience=20 --batch_size=256 --dir_model='model'\n",
    "```\n",
    "--lang : 언어 선택 (de-독일어, en-영어, es-스페인어, fr-프랑스어, jp-일어, ru-러시아어, zh-중국어)\n",
    "\n",
    "--label_type1 : 학습할 발음평가 라벨 선택(1) ('pron' / 'fluency')\n",
    "\n",
    "--label_type2 : 학습할 발음평가 라벨 선택(2) ('articulation' / 'prosody')\n",
    "\n",
    "--dir_data : 학습할 발음평가 데이터가 위치한 폴더 경로\n",
    "\n",
    "--dir_list : 과정 3에서 준비한 trn/val/test list가 있는 폴더 경로\n",
    "\n",
    "--dir_model : inference를 수행할 모델 경로 \n",
    "\n",
    "--mlp_hidden : 모델의 hidden units 개수\n",
    "\n",
    "--epochs : finetune 훈련 횟수\n",
    "\n",
    "--patience : 성능이 더이상 오르지 않으면 학습을 조기 종료하기 위한 파라미터\n",
    "\n",
    "--batch_size : 훈련 batch 크기\n"
   ]
  },
  {
   "cell_type": "code",
   "execution_count": null,
   "id": "4ff91720-a07e-42da-89eb-b80e810f0fcd",
   "metadata": {},
   "outputs": [
    {
     "name": "stdout",
     "output_type": "stream",
     "text": [
      "base wav2vec2 model: facebook/wav2vec2-large-robust-ft-libri-960h\n",
      "Traceback (most recent call last):\n",
      "  File \"/home/coldbrew/fluent/01.발음평가모델/1.모델소스코드/train_mlp.py\", line 235, in <module>\n",
      "    train_mlp()\n",
      "  File \"/home/coldbrew/fluent/01.발음평가모델/1.모델소스코드/train_mlp.py\", line 142, in train_mlp\n",
      "    trn_feat_x, trn_feat_y = feat_extraction(args, 'trn') # feature extraction for training data\n",
      "                             ^^^^^^^^^^^^^^^^^^^^^^^^^^^^\n",
      "  File \"/home/coldbrew/fluent/01.발음평가모델/1.모델소스코드/train_mlp.py\", line 33, in feat_extraction\n",
      "    filelist = open_file(fname_list)\n",
      "               ^^^^^^^^^^^^^^^^^^^^^\n",
      "  File \"/home/coldbrew/fluent/01.발음평가모델/1.모델소스코드/train_mlp.py\", line 23, in open_file\n",
      "    f = open(filename)\n",
      "        ^^^^^^^^^^^^^^\n",
      "FileNotFoundError: [Errno 2] No such file or directory: '/mnt/f/fluent/037.교육용_한국인의_영어_음성_데이터/01-1.정식개방데이터/lang_en/pron_trn.list'\n"
     ]
    }
   ],
   "source": [
    "# python train_mlp.py --lang='en' --label_type1='pron' --label_type2='articulation' --dir_data='data/audio' --dir_list='/home/coldbrew/fluent/01.발음평가모델/1.모델소스코드/datasets_list' --mlp_hidden=64 --epochs=200 --patience=20 --batch_size=256 --dir_model='model_test1'"
   ]
  },
  {
   "cell_type": "code",
   "execution_count": null,
   "id": "cee05663",
   "metadata": {},
   "outputs": [],
   "source": [
    "python train_mlp.py --lang='en' --label_type1='pron' --label_type2='articulation' --dir_data='data/audio' --dir_list='/home/coldbrew/fluent/01.발음평가모델/1.모델소스코드/datasets_small_list' --mlp_hidden=64 --epochs=200 --patience=20 --batch_size=256 --dir_model='model_test1'"
   ]
  },
  {
   "cell_type": "code",
   "execution_count": null,
   "id": "38ac4c6e-7243-45d6-951c-a2cf5f92c14d",
   "metadata": {},
   "outputs": [],
   "source": [
    "/mnt/f/fluent/037.교육용_한국인의_영어_음성_데이터/01-1.정식개방데이터/\n"
   ]
  },
  {
   "cell_type": "markdown",
   "id": "1a8b0d40",
   "metadata": {},
   "source": [
    "이러한 파일을 만드는 쉘스크립트 코드 만들어줘\n",
    "\n",
    "*  pron_trn.list\n",
    "*  pron_val.list\n",
    "*  pron_test.list\n",
    "이런 형식으로 3개의 텍스트 파일을 만드는데 \n",
    "아래 폴더에 있는 모든 .wav파일을 가지고 파일이름을 리스트화하고 그게 맞는 점수는 \n",
    "/mnt/f/fluent/037.교육용_한국인의_영어_음성_데이터/01-1.정식개방데이터/Training/01.원천데이터/TS_PRN_en_NA_NA/NA-NA-F-13-ko-220812-100000_133_1_3-en.wav\n",
    "\n",
    "[articulation  score]는 json의 itemScript->rating->articulationScore\n",
    "[prosody  score]는 json의 itemScript->rating->prosodyScore 에서 가져오면됨\n",
    "/mnt/f/fluent/037.교육용_한국인의_영어_음성_데이터/01-1.정식개방데이터/Training/02.라벨링데이터/TL_PRN_en_NA_NA (2)/NA-NA-F-13-ko-220812-100000_133_1_3-en.json\n",
    "\n",
    "필요한 리스트\n",
    "*.list  :  [wav  file]  [articulation  score]  [prosody  score]  [script]\n"
   ]
  },
  {
   "cell_type": "markdown",
   "id": "2469f097",
   "metadata": {},
   "source": [
    "#!/bin/bash\n",
    "\n",
    "# 설정할 디렉토리 경로\n",
    "audio_dir=\"/mnt/f/fluent/037.교육용_한국인의_영어_음성_데이터/01-1.정식개방데이터/Training/01.원천데이터/TS_PRN_en_NA_NA\"\n",
    "label_dir=\"/mnt/f/fluent/037.교육용_한국인의_영어_음성_데이터/01-1.정식개방데이터/Training/02.라벨링데이터/TL_PRN_en_NA_NA\"\n",
    "output_dir=\".\"\n",
    "\n",
    "# 출력 파일 초기화\n",
    "> \"$output_dir/pron_trn.list\"\n",
    "> \"$output_dir/pron_val.list\"\n",
    "> \"$output_dir/pron_test.list\"\n",
    "\n",
    "# 트레인, 밸리데이션, 테스트 파일 리스트\n",
    "train_list=\"$output_dir/pron_trn.list\"\n",
    "val_list=\"$output_dir/pron_val.list\"\n",
    "test_list=\"$output_dir/pron_test.list\"\n",
    "\n",
    "# 모든 .wav 파일에 대해 처리\n",
    "find \"$audio_dir\" -name \"*.wav\" | while read -r wav_file; do\n",
    "    # 대응하는 json 파일 경로 설정\n",
    "    filename=$(basename \"$wav_file\" .wav)\n",
    "    json_file=\"$label_dir/$filename.json\"\n",
    "    \n",
    "    # json 파일이 존재하는지 확인\n",
    "    if [ -f \"$json_file\" ]; then\n",
    "        # 점수와 스크립트 추출\n",
    "        articulation_score=$(jq -r '.itemScript.rating.articulationScore' \"$json_file\")\n",
    "        prosody_score=$(jq -r '.itemScript.rating.prosodyScore' \"$json_file\")\n",
    "        script=$(jq -r '.itemScript.script' \"$json_file\")\n",
    "        \n",
    "        # 결과 문자열 생성\n",
    "        result=\"$wav_file\\t$articulation_score\\t$prosody_score\\t$script\"\n",
    "        \n",
    "        # 임의로 파일을 트레인, 밸리데이션, 테스트 셋에 분류\n",
    "        hash_value=$(echo -n \"$filename\" | md5sum | cut -d' ' -f1)\n",
    "        mod_value=$((0x${hash_value:0:2} % 10))\n",
    "        \n",
    "        if [ \"$mod_value\" -lt 7 ]; then\n",
    "            echo -e \"$result\" >> \"$train_list\"\n",
    "        elif [ \"$mod_value\" -lt 9 ]; then\n",
    "            echo -e \"$result\" >> \"$val_list\"\n",
    "        else\n",
    "            echo -e \"$result\" >> \"$test_list\"\n",
    "        fi\n",
    "    else\n",
    "        echo \"Warning: $json_file not found.\"\n",
    "    fi\n",
    "done\n",
    "\n",
    "echo \"Files generated: pron_trn.list, pron_val.list, pron_test.list\"\n"
   ]
  }
 ],
 "metadata": {
  "kernelspec": {
   "display_name": "scoring",
   "language": "python",
   "name": "scoring"
  },
  "language_info": {
   "codemirror_mode": {
    "name": "ipython",
    "version": 3
   },
   "file_extension": ".py",
   "mimetype": "text/x-python",
   "name": "python",
   "nbconvert_exporter": "python",
   "pygments_lexer": "ipython3",
   "version": "3.10.12"
  }
 },
 "nbformat": 4,
 "nbformat_minor": 5
}
