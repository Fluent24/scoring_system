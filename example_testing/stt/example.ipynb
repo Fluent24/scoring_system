{
 "cells": [
  {
   "cell_type": "code",
   "execution_count": 3,
   "metadata": {},
   "outputs": [
    {
     "name": "stdout",
     "output_type": "stream",
     "text": [
      "Downloading https://dataset-hub.oss-cn-hangzhou.aliyuncs.com/private-unzip-dataset/wenet/wenet_pretrained_models/master/gigaspeech_u2pp_conformer_libtorch.tar.gz?Expires=1711330131&OSSAccessKeyId=LTAI5tAoCEDFQFyV5h8unjt8&Signature=ROC7EGUQY2CrCcAlsr09e390sG0%3D&response-content-disposition=attachment%3B to /Users/coldbrew/.wenet/english\n"
     ]
    },
    {
     "name": "stderr",
     "output_type": "stream",
     "text": [
      "gigaspeech_u2pp_conformer_libtorch.tar.gz: 100%|██████████| 464M/464M [00:13<00:00, 36.2MB/s]   \n"
     ]
    },
    {
     "name": "stdout",
     "output_type": "stream",
     "text": [
      "▁I▁KNOCKED▁AT▁THE▁DOOR▁ON▁THE▁ANCIENT▁SIDE▁OF▁THE▁BUILDING\n"
     ]
    }
   ],
   "source": [
    "import wenet\n",
    "\n",
    "model = wenet.load_model('english')\n",
    "result = model.transcribe('en.wav')\n",
    "print(result['text'])"
   ]
  },
  {
   "cell_type": "code",
   "execution_count": 8,
   "metadata": {},
   "outputs": [
    {
     "name": "stdout",
     "output_type": "stream",
     "text": [
      "▁I▁KNOCK▁AT▁THE▁DOOR▁ON▁THE▁ASIAN▁SIDE▁OF▁THE▁BUILDING\n",
      "Execution time: 0.761017 seconds\n"
     ]
    }
   ],
   "source": [
    "import time\n",
    "import wenet\n",
    "\n",
    "start_time = time.time()  # 시작 시간 기록\n",
    "\n",
    "model = wenet.load_model('english')\n",
    "result = model.transcribe('sh_speech_en.wav')\n",
    "\n",
    "end_time = time.time()  # 종료 시간 기록\n",
    "\n",
    "print(result['text'])\n",
    "print(f\"Execution time: {end_time - start_time:.6f} seconds\")"
   ]
  },
  {
   "cell_type": "code",
   "execution_count": 2,
   "metadata": {},
   "outputs": [
    {
     "name": "stdout",
     "output_type": "stream",
     "text": [
      "▁THANK▁YOU▁FOR▁ATTENDING▁OUR▁YEARLY▁CONVENTION▁AFTER▁YEARS▁OF▁RESEARCH▁WE▁HAVE▁ESTABLISHED▁A▁STRONG▁CONNECTION▁BETWEEN▁ACCESS▁EXERCISE▁AND▁PERMANENT▁WEIGHT▁LOOSE▁ACTIVITIES▁SUCH▁AS▁WORKING▁JOGGING▁AND▁SWIMMING▁HAS▁BEEN▁PROVEN▁TO▁ASSIST▁INDIVIDUALS▁IN▁MANY▁MAINTAINING▁OR▁HEALTHY▁LIFESTYLES▁ENCOURAGING▁BY▁THIS▁RESORT▁TO▁RE▁NOW▁RECOMMEND▁THAT▁OR▁OUR▁PATIENTS▁ENGAGE▁IN▁REGULAR▁EXERCISE\n",
      "Execution time: 1.382738 seconds\n"
     ]
    }
   ],
   "source": [
    "import time\n",
    "import wenet\n",
    "\n",
    "start_time = time.time()  # 시작 시간 기록\n",
    "\n",
    "model = wenet.load_model('english')\n",
    "result = model.transcribe('sh_Toeic_speaking_ex.wav')\n",
    "\n",
    "end_time = time.time()  # 종료 시간 기록\n",
    "\n",
    "print(result['text'])\n",
    "print(f\"Execution time: {end_time - start_time:.6f} seconds\")\n",
    "answer = \"\"\"Thank you for attending our yearly convention. After years of research, we've\n",
    "\n",
    "established a strong connection between exercise and permanent weight loss.\n",
    "\n",
    "Activities such as walking, jogging, and swimming have been proven to assist\n",
    "\n",
    "individuals in maintaining a healthy lifestyle. Encouraged by these results, we now\n",
    "\n",
    "recommend that all our patients engage in regular exercise.\"\"\""
   ]
  },
  {
   "cell_type": "code",
   "execution_count": 15,
   "metadata": {},
   "outputs": [
    {
     "name": "stdout",
     "output_type": "stream",
     "text": [
      "Character Error Rate (CER): 0.8968\n",
      "Word Error Rate (WER): 1.0727\n"
     ]
    }
   ],
   "source": [
    "cer = compute_cer(answer, result['text'])\n",
    "print(f\"Character Error Rate (CER): {cer:.4f}\")\n",
    "\n",
    "# WER 계산\n",
    "wer = compute_wer(answer, result['text'])\n",
    "print(f\"Word Error Rate (WER): {wer:.4f}\")"
   ]
  },
  {
   "cell_type": "code",
   "execution_count": 14,
   "metadata": {},
   "outputs": [
    {
     "name": "stdout",
     "output_type": "stream",
     "text": [
      "Character Error Rate (CER): 0.1053\n",
      "Word Error Rate (WER): 0.1667\n"
     ]
    }
   ],
   "source": [
    "import re\n",
    "\n",
    "def preprocess(text):\n",
    "    \"\"\"전처리 함수: 문자열에서 '▁' 토큰을 제거합니다.\"\"\"\n",
    "    return re.sub(r'▁', ' ', text).strip()\n",
    "\n",
    "def compute_cer(r, h):\n",
    "    \"\"\"\n",
    "    CER(Character Error Rate)을 계산하는 함수입니다.\n",
    "    r: 참조 문자열\n",
    "    h: 가설 문자열\n",
    "    \"\"\"\n",
    "    r = preprocess(r)\n",
    "    h = preprocess(h)\n",
    "    \n",
    "    # 편집 거리(Levenshtein distance)를 계산합니다.\n",
    "    import Levenshtein as lev\n",
    "    distance = lev.distance(r, h)\n",
    "    \n",
    "    # CER을 계산합니다.\n",
    "    cer = distance / len(r)\n",
    "    \n",
    "    return cer\n",
    "\n",
    "def compute_wer(r, h):\n",
    "    \"\"\"\n",
    "    WER(Word Error Rate)을 계산하는 함수입니다.\n",
    "    r: 참조 문자열\n",
    "    h: 가설 문자열\n",
    "    \"\"\"\n",
    "    r = preprocess(r).split()\n",
    "    h = preprocess(h).split()\n",
    "    \n",
    "    # 편집 거리(Levenshtein distance)를 계산합니다.\n",
    "    import Levenshtein as lev\n",
    "    distance = lev.distance(r, h)\n",
    "    \n",
    "    # WER을 계산합니다.\n",
    "    wer = distance / len(r)\n",
    "    \n",
    "    return wer\n",
    "\n",
    "# 예시 문자열\n",
    "ref = \"▁I▁KNOCKED▁AT▁THE▁DOOR▁ON▁THE▁ANCIENT▁SIDE▁OF▁THE▁BUILDING\"\n",
    "hyp = \"▁I▁KNOCK▁AT▁THE▁DOOR▁ON▁THE▁ASIAN▁SIDE▁OF▁THE▁BUILDING\"\n",
    "\n",
    "# CER 계산\n",
    "cer = compute_cer(ref, hyp)\n",
    "print(f\"Character Error Rate (CER): {cer:.4f}\")\n",
    "\n",
    "# WER 계산\n",
    "wer = compute_wer(ref, hyp)\n",
    "print(f\"Word Error Rate (WER): {wer:.4f}\")"
   ]
  },
  {
   "cell_type": "markdown",
   "metadata": {},
   "source": []
  }
 ],
 "metadata": {
  "kernelspec": {
   "display_name": "fluent",
   "language": "python",
   "name": "python3"
  },
  "language_info": {
   "codemirror_mode": {
    "name": "ipython",
    "version": 3
   },
   "file_extension": ".py",
   "mimetype": "text/x-python",
   "name": "python",
   "nbconvert_exporter": "python",
   "pygments_lexer": "ipython3",
   "version": "3.10.13"
  }
 },
 "nbformat": 4,
 "nbformat_minor": 2
}
